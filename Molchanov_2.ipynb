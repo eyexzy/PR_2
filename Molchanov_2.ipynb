{
  "cells": [
    {
      "cell_type": "markdown",
      "metadata": {
        "id": "p9wwt0LZzNvn"
      },
      "source": [
        "# I. Змінні та памʼять."
      ]
    },
    {
      "cell_type": "markdown",
      "metadata": {
        "id": "HTJrrm95xSV9"
      },
      "source": [
        "1. Створити змінні, що посилаються на два цілих числа, що однакові за значенням, де значення належить проміжку від -5 до 256. Перевірте, чи будуть ці змінні рівні тільки за значенням або ж ще будуть посилатися на один і той самий обʼєкт в памʼяті? Наведіть код та дайте текстову відповідь нижче."
      ]
    },
    {
      "cell_type": "code",
      "execution_count": 46,
      "metadata": {
        "id": "TATni2vzayjG"
      },
      "outputs": [
        {
          "name": "stdout",
          "output_type": "stream",
          "text": [
            "True\n",
            "True\n"
          ]
        }
      ],
      "source": [
        "a = 10\n",
        "b = 10\n",
        "\n",
        "print(a == b)  \n",
        "\n",
        "print(a is b) \n"
      ]
    },
    {
      "cell_type": "markdown",
      "metadata": {
        "id": "zfRG_o3WbRdg"
      },
      "source": [
        "Змінні a та b рівні за значенням, адже вони містять одне й те ж саме число - 10.\n",
        "Однак, вони не посилаються на один і той самий об'єкт в пам'яті. Присвоєння b = 10 створює новий об'єкт типу int зі значенням 10, на який посилається b. Змінна a ж посилається на інший об'єкт типу int з тим самим значенням."
      ]
    },
    {
      "cell_type": "markdown",
      "metadata": {
        "id": "ISORzt6M3vAt"
      },
      "source": [
        "2. За допомогою якої функції можна перевірити належність змінної до вказаного типу даних (напр. чи змінна True посилається на значення булевого та цілочисленого типу)?"
      ]
    },
    {
      "cell_type": "code",
      "execution_count": 45,
      "metadata": {
        "id": "9vL9CFaMbfyo"
      },
      "outputs": [
        {
          "name": "stdout",
          "output_type": "stream",
          "text": [
            "True\n",
            "True\n"
          ]
        }
      ],
      "source": [
        "# Приклад\n",
        "\n",
        "# Перевірка, чи змінна True є булевим значенням\n",
        "is_bool = isinstance(True, bool)\n",
        "print(is_bool) \n",
        "\n",
        "# Перевірка, чи змінна True є цілим числом\n",
        "is_int = isinstance(True, int)\n",
        "print(is_int)\n",
        "\n",
        "\n"
      ]
    },
    {
      "cell_type": "markdown",
      "metadata": {},
      "source": [
        "Для перевірки належності змінної до вказаного типу даних в Python використовується функція isinstance().\n",
        "\n",
        "Функція isinstance() використовується для перевірки належності змінної до вказаного типу даних.\n",
        "Функція повертає True, якщо змінна належить до вказаного типу даних, і False - якщо ні."
      ]
    },
    {
      "cell_type": "markdown",
      "metadata": {
        "id": "tRxugKAxwYLw"
      },
      "source": [
        "# II. Цілі числа та числа з рухомою комою"
      ]
    },
    {
      "cell_type": "markdown",
      "metadata": {
        "id": "NLHkgd5Gybc8"
      },
      "source": [
        "3. Створити дві змінні, що посилаються на будь-які ціле число та число з рухомою комою та продемонструвати такі арифметичні операції: додавання, віднімання, ділення, множення, ділення без залишку, ділення по модулю, приведення до ступеню. Всі результати операцій вивести на екран."
      ]
    },
    {
      "cell_type": "code",
      "execution_count": 44,
      "metadata": {
        "id": "nb8u_3pjb2cA"
      },
      "outputs": [
        {
          "name": "stdout",
          "output_type": "stream",
          "text": [
            "Додавання: 10 + 3.14 = 13.14\n",
            "Віднімання: 10 - 3.14 = 6.859999999999999\n",
            "Ділення: 10 / 3.14 = 3.184713375796178\n",
            "Множення: 10 * 3.14 = 31.400000000000002\n",
            "Ділення без залишку: 10 // 3.14 = 3.0\n",
            "Ділення по модулю: 10 % 3.14 = 0.5799999999999996\n",
            "Піднесення до ступеню: 10 ** 3.14 = 1380.3842646028852\n"
          ]
        }
      ],
      "source": [
        "a = 10\n",
        "b = 3.14\n",
        "\n",
        "sum = a + b\n",
        "print(f\"Додавання: {a} + {b} = {sum}\")\n",
        "\n",
        "difference = a - b\n",
        "print(f\"Віднімання: {a} - {b} = {difference}\")\n",
        "\n",
        "division = a / b\n",
        "print(f\"Ділення: {a} / {b} = {division}\")\n",
        "\n",
        "multiplication = a * b\n",
        "print(f\"Множення: {a} * {b} = {multiplication}\")\n",
        "\n",
        "floor_division = a // b\n",
        "print(f\"Ділення без залишку: {a} // {b} = {floor_division}\")\n",
        "\n",
        "modulus = a % b\n",
        "print(f\"Ділення по модулю: {a} % {b} = {modulus}\")\n",
        "\n",
        "power = a ** b\n",
        "print(f\"Піднесення до ступеню: {a} ** {b} = {power}\")\n",
        "\n"
      ]
    },
    {
      "cell_type": "markdown",
      "metadata": {
        "id": "1kBClKgPzZnC"
      },
      "source": [
        "4. Використовуючи змінні з вправи 3, продемонструйте механізм явного перетворення типів, де числа з рухомою комою перетворюються на цілі числа. Також визначте змінну, що посилається на значення булевого типу і спробуйте явно привести її до цілого числа."
      ]
    },
    {
      "cell_type": "code",
      "execution_count": 43,
      "metadata": {
        "id": "TbqJbkeUcKsD"
      },
      "outputs": [
        {
          "name": "stdout",
          "output_type": "stream",
          "text": [
            "Тип c: <class 'int'>\n",
            "Значення c: 3\n",
            "Тип e: <class 'int'>\n",
            "Значення e: 1\n"
          ]
        }
      ],
      "source": [
        "a = 10\n",
        "b = 3.14\n",
        "\n",
        "c = int(b)\n",
        "print(f\"Тип c: {type(c)}\")\n",
        "print(f\"Значення c: {c}\")\n",
        "\n",
        "d = True\n",
        "\n",
        "e = int(d)\n",
        "print(f\"Тип e: {type(e)}\")\n",
        "print(f\"Значення e: {e}\")\n"
      ]
    },
    {
      "cell_type": "markdown",
      "metadata": {
        "id": "EVJ7AflwxrZi"
      },
      "source": [
        "# IІІ. Рядки (String)."
      ]
    },
    {
      "cell_type": "markdown",
      "metadata": {
        "id": "_s5ECzz9zE61"
      },
      "source": [
        "5. Створити пустий рядок двома різними способами."
      ]
    },
    {
      "cell_type": "code",
      "execution_count": 42,
      "metadata": {
        "id": "fkZJHu9Scvc-"
      },
      "outputs": [
        {
          "name": "stdout",
          "output_type": "stream",
          "text": [
            "Тип empty_string1: <class 'str'>\n",
            "Значення empty_string1: \n",
            "Тип empty_string2: <class 'str'>\n",
            "Значення empty_string2: \n"
          ]
        }
      ],
      "source": [
        "empty_string1 = str()\n",
        "print(f\"Тип empty_string1: {type(empty_string1)}\")\n",
        "print(f\"Значення empty_string1: {empty_string1}\")\n",
        "\n",
        "empty_string2 = \"\"\n",
        "print(f\"Тип empty_string2: {type(empty_string2)}\")\n",
        "print(f\"Значення empty_string2: {empty_string2}\")\n"
      ]
    },
    {
      "cell_type": "markdown",
      "metadata": {
        "id": "4Bdn9J3MzLf_"
      },
      "source": [
        "6. Створити рядок з апострофом. Зробити його сирим. Вивести обидва рядка на екран."
      ]
    },
    {
      "cell_type": "code",
      "execution_count": 41,
      "metadata": {
        "id": "ivji_hsmc0GH"
      },
      "outputs": [
        {
          "name": "stdout",
          "output_type": "stream",
          "text": [
            "Нормальний рядок: Я не можу сказати 'привіт'.\n",
            "Сирий рядок: Я не можу сказати 'привіт'.\n"
          ]
        }
      ],
      "source": [
        "normal_string = \"Я не можу сказати 'привіт'.\"\n",
        "print(f\"Нормальний рядок: {normal_string}\")\n",
        "\n",
        "raw_string = r\"Я не можу сказати 'привіт'.\"\n",
        "print(f\"Сирий рядок: {raw_string}\")\n"
      ]
    },
    {
      "cell_type": "markdown",
      "metadata": {
        "id": "bg_d8wM4z8dS"
      },
      "source": [
        "7. Створити змінну, що буде посилатися на Ваше прізвище латинкою. Створити форматований рядок, який буде мати вигляд \"My surname is ______\", де на місці нижніх підкреслень буде Ваше прізвище зі змінної."
      ]
    },
    {
      "cell_type": "code",
      "execution_count": 40,
      "metadata": {
        "id": "kuxFgpWndACq"
      },
      "outputs": [
        {
          "name": "stdout",
          "output_type": "stream",
          "text": [
            "My surname is Molchanov\n"
          ]
        }
      ],
      "source": [
        "surname = \"Molchanov\"\n",
        "formatted_string = f\"My surname is {surname}\"\n",
        "print(formatted_string)\n"
      ]
    },
    {
      "cell_type": "markdown",
      "metadata": {
        "id": "1Nc6RqvQ0hxU"
      },
      "source": [
        "8. Маючи рядок \"My dog is crazy.\" перетворити його на список [\"my\", \"dog\", \"is\", \"crazy\"]"
      ]
    },
    {
      "cell_type": "code",
      "execution_count": 39,
      "metadata": {
        "id": "w1Ya4RqedUhw"
      },
      "outputs": [
        {
          "name": "stdout",
          "output_type": "stream",
          "text": [
            "['My', 'dog', 'is', 'crazy.']\n"
          ]
        }
      ],
      "source": [
        "string = \"My dog is crazy.\"\n",
        "words = string.split()\n",
        "print(words)\n"
      ]
    },
    {
      "cell_type": "markdown",
      "metadata": {
        "id": "GYVqN9uP1D4n"
      },
      "source": [
        "# IV. Робота зі списками."
      ]
    },
    {
      "cell_type": "markdown",
      "metadata": {
        "id": "7-DeDunw2sO-"
      },
      "source": [
        "9. Створити список двома різними за синтаксисом способами. За допомогою вбудованої функції обчисліть довжину одного з них."
      ]
    },
    {
      "cell_type": "code",
      "execution_count": 38,
      "metadata": {
        "id": "zxg06Uuxdyoh"
      },
      "outputs": [
        {
          "name": "stdout",
          "output_type": "stream",
          "text": [
            "Список 1: ['a', 'b', 'c', 1, 2.5]\n",
            "Список 2: ['a', 'b', 'c', '1', '2', '3']\n"
          ]
        }
      ],
      "source": [
        "list1 = [\"a\", \"b\", \"c\", 1, 2.5]\n",
        "print(f\"Список 1: {list1}\")\n",
        "\n",
        "list2 = list(\"abc123\")\n",
        "print(f\"Список 2: {list2}\")\n",
        "\n"
      ]
    },
    {
      "cell_type": "markdown",
      "metadata": {
        "id": "8vmGUTjL22gI"
      },
      "source": [
        "10. Створіть два списка та за допомогою спеціального методу додайте другий з них в якості останнього елемента першого."
      ]
    },
    {
      "cell_type": "code",
      "execution_count": 37,
      "metadata": {
        "id": "uHtjWYw7d7hm"
      },
      "outputs": [
        {
          "name": "stdout",
          "output_type": "stream",
          "text": [
            "Список 1: ['a', 'b', 'c', 1, 2, 3]\n"
          ]
        }
      ],
      "source": [
        "list1 = [\"a\", \"b\", \"c\"]\n",
        "list2 = [1, 2, 3]\n",
        "\n",
        "list1.extend(list2)\n",
        "print(f\"Список 1: {list1}\")\n"
      ]
    },
    {
      "cell_type": "markdown",
      "metadata": {
        "id": "JC3BkD-67_--"
      },
      "source": [
        "11. Створіть список, де елементами цього списку також є списки. Отримай перший елемент з останнього рядка та виведи значення на екран."
      ]
    },
    {
      "cell_type": "code",
      "execution_count": 36,
      "metadata": {
        "id": "Kz2jZHsGeLlz"
      },
      "outputs": [
        {
          "name": "stdout",
          "output_type": "stream",
          "text": [
            "Перший елемент з останнього рядка: hello\n"
          ]
        }
      ],
      "source": [
        "list_of_lists = [\n",
        "    [\"a\", \"b\", \"c\"],\n",
        "    [1, 2, 3],\n",
        "    [\"hello\", \"world\"],\n",
        "]\n",
        "\n",
        "last_element = list_of_lists[-1][0]\n",
        "print(f\"Перший елемент з останнього рядка: {last_element}\")\n"
      ]
    },
    {
      "cell_type": "markdown",
      "metadata": {
        "id": "JA47PKTv8zFK"
      },
      "source": [
        "12. Створіть список з десяти елементів різного типу. Отримайте всі елементи, окрім двох перших та двох останніх та збережіть їх в новій змінній."
      ]
    },
    {
      "cell_type": "code",
      "execution_count": 14,
      "metadata": {
        "id": "_rHdUR-ueP4-"
      },
      "outputs": [
        {
          "name": "stdout",
          "output_type": "stream",
          "text": [
            "Нова змінна: [True, [1, 2], 'hello', 3.14, None, {'a': 1}]\n"
          ]
        }
      ],
      "source": [
        "list1 = [\"a\", 1, True, [1, 2], \"hello\", 3.14, None, {\"a\": 1}, (1, 2), lambda x: x+1]\n",
        "new_list = list1[2:-2]\n",
        "print(f\"Нова змінна: {new_list}\")\n"
      ]
    },
    {
      "cell_type": "markdown",
      "metadata": {
        "id": "pCjR1dJb1Qbi"
      },
      "source": [
        "# V. Робота з кортежами."
      ]
    },
    {
      "cell_type": "markdown",
      "metadata": {
        "id": "fAZCxAX06R_k"
      },
      "source": [
        "14. Створити кортеж з один елементом."
      ]
    },
    {
      "cell_type": "code",
      "execution_count": 35,
      "metadata": {
        "id": "H7d82WkQev3e"
      },
      "outputs": [
        {
          "name": "stdout",
          "output_type": "stream",
          "text": [
            "Тип tuple1: <class 'tuple'>\n",
            "Елементи tuple1: ('hello',)\n"
          ]
        }
      ],
      "source": [
        "tuple1 = (\"hello\",)  \n",
        "\n",
        "print(f\"Тип tuple1: {type(tuple1)}\")\n",
        "print(f\"Елементи tuple1: {tuple1}\")\n"
      ]
    },
    {
      "cell_type": "markdown",
      "metadata": {
        "id": "8LCtYcmI6w1M"
      },
      "source": [
        "15. Порівняйте список та кортеж. Назвіть схожості та відмінності, випадки використання."
      ]
    },
    {
      "cell_type": "code",
      "execution_count": 33,
      "metadata": {},
      "outputs": [
        {
          "name": "stdout",
          "output_type": "stream",
          "text": [
            "[1, 2, 3, 4]\n",
            "(1, 2, 3)\n"
          ]
        }
      ],
      "source": [
        "#Список\n",
        "my_list = [1, 2, 3]\n",
        "my_list.append(4)\n",
        "print(my_list)\n",
        "\n",
        "#Кортеж\n",
        "my_tuple = (1, 2, 3)\n",
        "print(my_tuple)\n",
        "\n"
      ]
    },
    {
      "cell_type": "markdown",
      "metadata": {
        "id": "fUsN1Hnue0C6"
      },
      "source": [
        "Схожість:\n",
        "Обидва є впорядкованими колекціями даних.\n",
        "Можуть містити будь-які типи даних, включаючи int, str, bool, інші списки/кортежі.\n",
        "Підтримують індексування та зрізи.\n",
        "Можуть використовуватися в циклах for.\n",
        "\n",
        "Відмінність:\n",
        "Змінні: можна додавати, видаляти та змінювати елементи.\n",
        "Методи: append(), extend(), insert(), remove(), pop(), sort() etc."
      ]
    },
    {
      "cell_type": "markdown",
      "metadata": {
        "id": "m0xrwFijAmDD"
      },
      "source": [
        "16. Створіть кортеж з 11ти елементів чисел з рухомою комою та отримайте кожен парний за індексом елемент в зворотньому порядку. Наприклад, маючи (1.2, 2.3, 3.3, 4.3, 5.3, 6.3, 7.3, 8.3, 9.3, 0.3), отримати (0.3, 8.3, 6.3, 4.3, 2.3). Результат збережіть в нову змінну та виведіть на екран."
      ]
    },
    {
      "cell_type": "code",
      "execution_count": 34,
      "metadata": {
        "id": "p-5DAH6XfAGA"
      },
      "outputs": [
        {
          "name": "stdout",
          "output_type": "stream",
          "text": [
            "Нова змінна: (10.3, 8.3, 6.3, 4.3, 2.3)\n"
          ]
        }
      ],
      "source": [
        "tuple1 = (1.2, 2.3, 3.3, 4.3, 5.3, 6.3, 7.3, 8.3, 9.3, 10.3, 11.3)\n",
        "step = 2\n",
        "new_tuple = tuple1[step-1::step][::-1]\n",
        "print(f\"Нова змінна: {new_tuple}\")\n"
      ]
    },
    {
      "cell_type": "markdown",
      "metadata": {
        "id": "rW_I9dt3x6cW"
      },
      "source": [
        "# VI. Множини (Set)."
      ]
    },
    {
      "cell_type": "markdown",
      "metadata": {
        "id": "zNjRLHLw1Bgg"
      },
      "source": [
        "17. Створити множину без елементів. Після цого за допомогою методу додайте кілька різних елементів до множини. Чи множини є змінним типом даних?"
      ]
    },
    {
      "cell_type": "code",
      "execution_count": 31,
      "metadata": {
        "id": "KOv7zc2Kfo4N"
      },
      "outputs": [
        {
          "name": "stdout",
          "output_type": "stream",
          "text": [
            "Тип my_set: <class 'set'>\n",
            "Елементи my_set: set()\n",
            "Елементи my_set після додавання: {1, 'hello', (1, 2)}\n"
          ]
        }
      ],
      "source": [
        "my_set = set()  \n",
        "print(f\"Тип my_set: {type(my_set)}\")\n",
        "print(f\"Елементи my_set: {my_set}\")\n",
        "\n",
        "my_set.add(\"hello\")\n",
        "my_set.add(1)\n",
        "my_set.add(True)\n",
        "my_set.add((1, 2))\n",
        "\n",
        "print(f\"Елементи my_set після додавання: {my_set}\")\n",
        "\n"
      ]
    },
    {
      "cell_type": "markdown",
      "metadata": {
        "id": "vxS6dVYiftZQ"
      },
      "source": [
        "Множини можна змінювати: додавати, видаляти та змінювати елементи"
      ]
    },
    {
      "cell_type": "markdown",
      "metadata": {
        "id": "gHpT0Zw_1HEF"
      },
      "source": [
        "18. Створити множину, маючи список my_list = [1, 1, 2, 67, 67, 8, 9]. Пояснити, чому \"зникли\" деякі елементи."
      ]
    },
    {
      "cell_type": "code",
      "execution_count": 30,
      "metadata": {
        "id": "qCN4uvJ_fxmu"
      },
      "outputs": [
        {
          "name": "stdout",
          "output_type": "stream",
          "text": [
            "{1, 2, 67, 8, 9}\n"
          ]
        }
      ],
      "source": [
        "my_list = [1, 1, 2, 67, 67, 8, 9]\n",
        "my_set = set(my_list)\n",
        "\n",
        "print(my_set)  \n",
        "\n"
      ]
    },
    {
      "cell_type": "markdown",
      "metadata": {
        "id": "tFNc1e20fyny"
      },
      "source": [
        "При створенні множини з списку за допомогою set() дублікати елементів ігноруються. Множина може містити лише унікальні значення"
      ]
    },
    {
      "cell_type": "markdown",
      "metadata": {
        "id": "SRMkGizS1UwY"
      },
      "source": [
        "19. Створіть дві множини. Продемонстуйте над ними операції: обʼєднання, різниці, пересічі та симетричної різниці. Використовуйте методи, що не змінюють множини, а створюють нові."
      ]
    },
    {
      "cell_type": "code",
      "execution_count": 20,
      "metadata": {
        "id": "h0T-VuDnf3Ri"
      },
      "outputs": [
        {
          "name": "stdout",
          "output_type": "stream",
          "text": [
            "Множина set1: {1, 2, 3, 4}\n",
            "Множина set2: {3, 4, 5, 6}\n",
            "Об'єднання set1 and set2: {1, 2, 3, 4, 5, 6}\n",
            "Різниця set1 - set2: {1, 2}\n",
            "Різниця set2 - set1: {5, 6}\n",
            "Перетин set1 and set2: {3, 4}\n",
            "Симетрична різниця set1 and set2: {1, 2, 5, 6}\n"
          ]
        }
      ],
      "source": [
        "set1 = {1, 2, 3, 4}\n",
        "set2 = {3, 4, 5, 6}\n",
        "\n",
        "print(f\"Множина set1: {set1}\")\n",
        "print(f\"Множина set2: {set2}\")\n",
        "\n",
        "union_set = set1 | set2\n",
        "print(f\"Об'єднання set1 and set2: {union_set}\")\n",
        "\n",
        "difference_set1 = set1 - set2\n",
        "difference_set2 = set2 - set1\n",
        "\n",
        "print(f\"Різниця set1 - set2: {difference_set1}\")\n",
        "print(f\"Різниця set2 - set1: {difference_set2}\")\n",
        "\n",
        "intersection_set = set1 & set2\n",
        "print(f\"Перетин set1 and set2: {intersection_set}\")\n",
        "\n",
        "symmetric_difference_set = set1 ^ set2\n",
        "print(f\"Симетрична різниця set1 and set2: {symmetric_difference_set}\")\n",
        "\n",
        "\n",
        "\n"
      ]
    },
    {
      "cell_type": "markdown",
      "metadata": {
        "id": "kWc8gkzTx7Ea"
      },
      "source": [
        "# VII. Словники (Dictionary)."
      ]
    },
    {
      "cell_type": "markdown",
      "metadata": {
        "id": "i5FLwj-B2ybQ"
      },
      "source": [
        "20. Створіть пустий словник. До нього додайте чотири пари елементів такі, щоб їхні ключі були різних типів. Чи може список бути ключем? Чому?"
      ]
    },
    {
      "cell_type": "code",
      "execution_count": 21,
      "metadata": {
        "id": "hxgv3BzrgLAV"
      },
      "outputs": [
        {
          "name": "stdout",
          "output_type": "stream",
          "text": [
            "Тип my_dict: <class 'dict'>\n",
            "Елементи my_dict: {}\n",
            "Елементи my_dict: {'key1': 1, 'key2': 'hello', True: 'True value', (1, 2): 'tuple key'}\n",
            "Елементи my_dict: {'key1': 1, 'key2': 'hello', True: 'True value', (1, 2): 'tuple key', 'list key': [1, 2, 3]}\n"
          ]
        }
      ],
      "source": [
        "my_dict = {}\n",
        "print(f\"Тип my_dict: {type(my_dict)}\")\n",
        "print(f\"Елементи my_dict: {my_dict}\")\n",
        "\n",
        "my_dict[\"key1\"] = 1  \n",
        "my_dict[\"key2\"] = \"hello\"  \n",
        "my_dict[True] = \"True value\"  \n",
        "my_dict[(1, 2)] = \"tuple key\"  \n",
        "\n",
        "print(f\"Елементи my_dict: {my_dict}\")\n",
        "\n",
        "my_dict[\"list key\"] = [1, 2, 3]\n",
        "\n",
        "print(f\"Елементи my_dict: {my_dict}\")\n"
      ]
    },
    {
      "cell_type": "markdown",
      "metadata": {
        "id": "zwa7UVN-gR3m"
      },
      "source": [
        "Словник може містити пари ключ-значення, де ключі мають різні типи, включаючи списки.\n",
        "Змінні списки, що використовуються як ключі, можна змінювати після їх додавання до словника."
      ]
    },
    {
      "cell_type": "markdown",
      "metadata": {
        "id": "WM_pMlJsgoNf"
      },
      "source": [
        "21. Створіть словник, де значенням в одній з пар теж буде словник, який теж має вкладений словник. Виведіть на екран значення, що міститься в словнику, що знаходиться на найнижчому рівні ієрархії вкладеності (найбільш внутрішній)."
      ]
    },
    {
      "cell_type": "code",
      "execution_count": 22,
      "metadata": {
        "id": "60dlP7IHhAy4"
      },
      "outputs": [
        {
          "name": "stdout",
          "output_type": "stream",
          "text": [
            "Тип outer_dict: <class 'dict'>\n",
            "Елементи outer_dict: {'key1': 1, 'key2': {'inner_key1': 'hello', 'inner_key2': {'deepest_key': 'world!'}}}\n"
          ]
        }
      ],
      "source": [
        "outer_dict = {\n",
        "    \"key1\": 1,\n",
        "    \"key2\": {\n",
        "        \"inner_key1\": \"hello\",\n",
        "        \"inner_key2\": {\n",
        "            \"deepest_key\": \"world!\"\n",
        "        }\n",
        "    }\n",
        "}\n",
        "\n",
        "print(f\"Тип outer_dict: {type(outer_dict)}\")\n",
        "print(f\"Елементи outer_dict: {outer_dict}\")\n"
      ]
    },
    {
      "cell_type": "markdown",
      "metadata": {
        "id": "xOZP0hkx6cCr"
      },
      "source": [
        "# Вітаю! Ви велика(ий) молодець, що впоралась(вся). Похваліть себе та побалуйте чимось приємним. Я Вами пишаюся."
      ]
    }
  ],
  "metadata": {
    "colab": {
      "provenance": []
    },
    "kernelspec": {
      "display_name": "Python 3",
      "name": "python3"
    },
    "language_info": {
      "name": "python"
    }
  },
  "nbformat": 4,
  "nbformat_minor": 0
}
